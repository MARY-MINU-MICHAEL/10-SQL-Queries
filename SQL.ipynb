{
  "nbformat": 4,
  "nbformat_minor": 0,
  "metadata": {
    "colab": {
      "provenance": []
    },
    "kernelspec": {
      "name": "python3",
      "display_name": "Python 3"
    },
    "language_info": {
      "name": "python"
    }
  },
  "cells": [
    {
      "cell_type": "code",
      "execution_count": null,
      "metadata": {
        "id": "vsMQY2RVKcGl"
      },
      "outputs": [],
      "source": [
        "# 1.to create a table\n",
        "create table <table_name>(<column_name_1 datatype optional_parameters>,<column_name_2 datatype,....> )\n",
        "\n",
        "# 2.to insert values to the table\n",
        "insert into <table_name>(<column_name_1>,<column_name_2>,...)values(<value_1>,<value_2>,...)\n",
        "\n",
        "# 3.to retrieve whole data\n",
        "select * from <table_name>\n",
        "\n",
        "# 4.to delete all rows of data in a table\n",
        "Truncate Table <table_name>\n",
        "\n",
        "# 5.to remove duplicate values from the table\n",
        "select distinct <column_name> from <table_name>\n",
        "\n",
        "# 6.to retrieve the number of rows \n",
        "select count(*) from <table_name>\n",
        "\n",
        "# 7.to remove one or more rows from the table\n",
        "delete from <table_name> where <condition>\n",
        "\n",
        "# 8.to retrieve data in sorted form based on certain column\n",
        "select <column_name> from <table_name> order by <column_name>\n",
        "\n",
        "# 9.to add all the values in a column\n",
        "select sum(<column_name>) from <table_name>\n",
        "\n",
        "# 10.to return minimum value from the table\n",
        "select min(<column_name>) from <table_name>\n",
        "\n",
        "\n",
        "\n",
        "\n"
      ]
    }
  ]
}